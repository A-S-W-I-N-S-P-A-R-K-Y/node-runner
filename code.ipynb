# 1. Install Node.js (v18 - compatible)
!curl -fsSL https://deb.nodesource.com/setup_18.x | sudo -E bash -
!sudo apt-get install -y nodejs

# 2. Install ffmpeg
!sudo apt-get install -y ffmpeg

# 3. Confirm versions
!node -v
!npm -v
!ffmpeg -version

# 4. Clone the repository
!git clone https://github.com/A-S-W-I-N-S-P-A-R-K-Y/X--BOT--MD.git

# 5. Change into the directory
%cd X--BOT--MD

# 6. Install npm dependencies
!npm install

# 7. Run the bot (you may need to adjust configs if it uses a headless browser or needs session data)
!npm start
